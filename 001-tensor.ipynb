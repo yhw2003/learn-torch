{
 "cells": [
  {
   "cell_type": "markdown",
   "metadata": {},
   "source": [
    "# tensor 向量\n",
    "---\n",
    "tensor是Pytorch中代表所有数据的格式，数据都被表述为不同的tensor"
   ]
  },
  {
   "cell_type": "markdown",
   "metadata": {},
   "source": [
    "### 创建tensor"
   ]
  },
  {
   "cell_type": "code",
   "execution_count": 67,
   "metadata": {},
   "outputs": [
    {
     "data": {
      "text/plain": [
       "'2.2.0+cu121'"
      ]
     },
     "execution_count": 67,
     "metadata": {},
     "output_type": "execute_result"
    }
   ],
   "source": [
    "import torch\n",
    "torch.__version__"
   ]
  },
  {
   "cell_type": "code",
   "execution_count": 68,
   "metadata": {},
   "outputs": [
    {
     "data": {
      "text/plain": [
       "tensor(5)"
      ]
     },
     "execution_count": 68,
     "metadata": {},
     "output_type": "execute_result"
    }
   ],
   "source": [
    "# scala\n",
    "scala = torch.tensor(5)\n",
    "scala"
   ]
  },
  {
   "cell_type": "code",
   "execution_count": 69,
   "metadata": {},
   "outputs": [
    {
     "data": {
      "text/plain": [
       "0"
      ]
     },
     "execution_count": 69,
     "metadata": {},
     "output_type": "execute_result"
    }
   ],
   "source": [
    "scala.ndim"
   ]
  },
  {
   "cell_type": "code",
   "execution_count": 70,
   "metadata": {},
   "outputs": [
    {
     "data": {
      "text/plain": [
       "5"
      ]
     },
     "execution_count": 70,
     "metadata": {},
     "output_type": "execute_result"
    }
   ],
   "source": [
    "# 从tensor中取回值\n",
    "scala.item()"
   ]
  },
  {
   "cell_type": "code",
   "execution_count": 71,
   "metadata": {},
   "outputs": [
    {
     "data": {
      "text/plain": [
       "tensor([0, 4, 8])"
      ]
     },
     "execution_count": 71,
     "metadata": {},
     "output_type": "execute_result"
    }
   ],
   "source": [
    "# vector\n",
    "raw_array = [0,2,4]\n",
    "vec = torch.tensor([i*2 for i in raw_array])\n",
    "vec"
   ]
  },
  {
   "cell_type": "code",
   "execution_count": 72,
   "metadata": {},
   "outputs": [
    {
     "data": {
      "text/plain": [
       "1"
      ]
     },
     "execution_count": 72,
     "metadata": {},
     "output_type": "execute_result"
    }
   ],
   "source": [
    "vec.ndim"
   ]
  },
  {
   "cell_type": "code",
   "execution_count": 73,
   "metadata": {},
   "outputs": [
    {
     "data": {
      "text/plain": [
       "torch.Size([3])"
      ]
     },
     "execution_count": 73,
     "metadata": {},
     "output_type": "execute_result"
    }
   ],
   "source": [
    "vec.shape"
   ]
  },
  {
   "cell_type": "code",
   "execution_count": 74,
   "metadata": {},
   "outputs": [
    {
     "data": {
      "text/plain": [
       "tensor([[0, 1],\n",
       "        [1, 0]])"
      ]
     },
     "execution_count": 74,
     "metadata": {},
     "output_type": "execute_result"
    }
   ],
   "source": [
    "matrix = torch.tensor([[0,1],\n",
    "                      [1,0]])\n",
    "matrix"
   ]
  },
  {
   "cell_type": "code",
   "execution_count": 75,
   "metadata": {},
   "outputs": [
    {
     "data": {
      "text/plain": [
       "(2, torch.Size([2, 2]))"
      ]
     },
     "execution_count": 75,
     "metadata": {},
     "output_type": "execute_result"
    }
   ],
   "source": [
    "matrix.ndim, matrix.shape"
   ]
  },
  {
   "cell_type": "markdown",
   "metadata": {},
   "source": [
    "### 随机tensor\n",
    "神经网络学习通常从一个随机的tensor开始，通过分析数据得到一个更好的tensor"
   ]
  },
  {
   "cell_type": "code",
   "execution_count": 76,
   "metadata": {},
   "outputs": [
    {
     "data": {
      "text/plain": [
       "tensor([[0.2745, 0.6584, 0.2775],\n",
       "        [0.8573, 0.8993, 0.0390],\n",
       "        [0.9268, 0.7388, 0.7179],\n",
       "        [0.7058, 0.9156, 0.4340],\n",
       "        [0.0772, 0.3565, 0.1479]])"
      ]
     },
     "execution_count": 76,
     "metadata": {},
     "output_type": "execute_result"
    }
   ],
   "source": [
    "#  创建随机的tensor\n",
    "random_tensor = torch.rand(5,3)\n",
    "random_tensor"
   ]
  },
  {
   "cell_type": "code",
   "execution_count": 77,
   "metadata": {},
   "outputs": [
    {
     "data": {
      "text/plain": [
       "tensor([[[0.5331, 0.4066, 0.2318,  ..., 0.1547, 0.5185, 0.2337],\n",
       "         [0.9794, 0.7788, 0.7945,  ..., 0.0121, 0.2541, 0.0475],\n",
       "         [0.7690, 0.8418, 0.5438,  ..., 0.0540, 0.7117, 0.0697],\n",
       "         ...,\n",
       "         [0.7690, 0.4457, 0.8744,  ..., 0.2655, 0.8964, 0.1610],\n",
       "         [0.2855, 0.3935, 0.2935,  ..., 0.6797, 0.9579, 0.4980],\n",
       "         [0.2928, 0.4907, 0.1513,  ..., 0.2940, 0.9641, 0.8343]],\n",
       "\n",
       "        [[0.1836, 0.4004, 0.6376,  ..., 0.6506, 0.9169, 0.8209],\n",
       "         [0.5375, 0.4618, 0.8188,  ..., 0.6726, 0.6767, 0.8444],\n",
       "         [0.4847, 0.5233, 0.4279,  ..., 0.4169, 0.5045, 0.9183],\n",
       "         ...,\n",
       "         [0.1147, 0.7772, 0.0530,  ..., 0.4248, 0.5969, 0.3289],\n",
       "         [0.9373, 0.3691, 0.6035,  ..., 0.5395, 0.5678, 0.7011],\n",
       "         [0.3381, 0.8708, 0.5258,  ..., 0.8066, 0.3758, 0.9334]],\n",
       "\n",
       "        [[0.4449, 0.3963, 0.0566,  ..., 0.0804, 0.7895, 0.2719],\n",
       "         [0.8593, 0.0204, 0.0520,  ..., 0.4014, 0.8286, 0.5475],\n",
       "         [0.4855, 0.8883, 0.2936,  ..., 0.3810, 0.7540, 0.2798],\n",
       "         ...,\n",
       "         [0.5756, 0.4670, 0.7261,  ..., 0.7737, 0.2247, 0.6333],\n",
       "         [0.3569, 0.1414, 0.8327,  ..., 0.6065, 0.8037, 0.7531],\n",
       "         [0.8759, 0.6759, 0.1480,  ..., 0.8300, 0.6902, 0.1685]]])"
      ]
     },
     "execution_count": 77,
     "metadata": {},
     "output_type": "execute_result"
    }
   ],
   "source": [
    "# 例如，如果想创建一个表述图片的tensor，你可以用（长，高，色彩通道(rgb)）\n",
    "random_tensor = torch.rand(size=(3, 224, 224))\n",
    "random_tensor"
   ]
  },
  {
   "cell_type": "code",
   "execution_count": 78,
   "metadata": {},
   "outputs": [
    {
     "data": {
      "text/plain": [
       "(tensor([[0.2961, 0.5166, 0.2517, 0.6886],\n",
       "         [0.0740, 0.8665, 0.1366, 0.1025],\n",
       "         [0.1841, 0.7264, 0.3153, 0.6871]]),\n",
       " tensor([[0.2961, 0.5166, 0.2517, 0.6886],\n",
       "         [0.0740, 0.8665, 0.1366, 0.1025],\n",
       "         [0.1841, 0.7264, 0.3153, 0.6871]]))"
      ]
     },
     "execution_count": 78,
     "metadata": {},
     "output_type": "execute_result"
    }
   ],
   "source": [
    "# 通过控制随机种子控制随机量\n",
    "RAND_SEED = 123\n",
    "torch.manual_seed(RAND_SEED)\n",
    "rt1 = torch.rand(size=(3,4))\n",
    "# 每次生成后种子都会被刷新，需要重新进行指定\n",
    "torch.manual_seed(RAND_SEED)\n",
    "rt2 = torch.rand(size=(3,4))\n",
    "rt1, rt2"
   ]
  },
  {
   "cell_type": "code",
   "execution_count": 79,
   "metadata": {},
   "outputs": [
    {
     "data": {
      "text/plain": [
       "(tensor([[0., 0., 0., 0.],\n",
       "         [0., 0., 0., 0.],\n",
       "         [0., 0., 0., 0.]]),\n",
       " tensor([[1., 1., 1., 1.],\n",
       "         [1., 1., 1., 1.],\n",
       "         [1., 1., 1., 1.]]),\n",
       " tensor([[0., 0., 0., 0.],\n",
       "         [0., 0., 0., 0.],\n",
       "         [0., 0., 0., 0.]]))"
      ]
     },
     "execution_count": 79,
     "metadata": {},
     "output_type": "execute_result"
    }
   ],
   "source": [
    "# 也可以创建全部为0或全部为1的tensor\n",
    "zeros = torch.zeros(size=(3,4))\n",
    "ones = torch.ones(size=(3,4))\n",
    "# 两个tensor相乘\n",
    "zeros, ones, zeros*ones"
   ]
  },
  {
   "cell_type": "markdown",
   "metadata": {},
   "source": [
    "### 范围\n"
   ]
  },
  {
   "cell_type": "code",
   "execution_count": 80,
   "metadata": {},
   "outputs": [
    {
     "data": {
      "text/plain": [
       "tensor([ 1,  2,  3,  4,  5,  6,  7,  8,  9, 10])"
      ]
     },
     "execution_count": 80,
     "metadata": {},
     "output_type": "execute_result"
    }
   ],
   "source": [
    "zero_to_ten = torch.arange(start=1, end=11)\n",
    "zero_to_ten"
   ]
  },
  {
   "cell_type": "code",
   "execution_count": 81,
   "metadata": {},
   "outputs": [
    {
     "data": {
      "text/plain": [
       "tensor([  1,   6,  11,  16,  21,  26,  31,  36,  41,  46,  51,  56,  61,  66,\n",
       "         71,  76,  81,  86,  91,  96, 101, 106, 111, 116, 121, 126, 131, 136,\n",
       "        141, 146, 151, 156, 161, 166, 171, 176, 181, 186, 191, 196, 201, 206,\n",
       "        211, 216, 221, 226, 231, 236, 241, 246, 251, 256, 261, 266, 271, 276,\n",
       "        281, 286, 291, 296, 301, 306, 311, 316, 321, 326, 331, 336, 341, 346,\n",
       "        351, 356, 361, 366, 371, 376, 381, 386, 391, 396, 401, 406, 411, 416,\n",
       "        421, 426, 431, 436, 441, 446, 451, 456, 461, 466, 471, 476, 481, 486,\n",
       "        491, 496, 501, 506, 511, 516, 521, 526, 531, 536, 541, 546, 551, 556,\n",
       "        561, 566, 571, 576, 581, 586, 591, 596, 601, 606, 611, 616, 621, 626,\n",
       "        631, 636, 641, 646, 651, 656, 661, 666, 671, 676, 681, 686, 691, 696,\n",
       "        701, 706, 711, 716, 721, 726, 731, 736, 741, 746, 751, 756, 761, 766,\n",
       "        771, 776, 781, 786, 791, 796, 801, 806, 811, 816, 821, 826, 831, 836,\n",
       "        841, 846, 851, 856, 861, 866, 871, 876, 881, 886, 891, 896, 901, 906,\n",
       "        911, 916, 921, 926, 931, 936, 941, 946, 951, 956, 961, 966, 971, 976,\n",
       "        981, 986, 991, 996])"
      ]
     },
     "execution_count": 81,
     "metadata": {},
     "output_type": "execute_result"
    }
   ],
   "source": [
    "# step\n",
    "torch.arange(start=1, end=1000, step=5)"
   ]
  },
  {
   "cell_type": "markdown",
   "metadata": {},
   "source": [
    "### 相似的tensor"
   ]
  },
  {
   "cell_type": "code",
   "execution_count": 82,
   "metadata": {},
   "outputs": [
    {
     "data": {
      "text/plain": [
       "tensor([[0, 0],\n",
       "        [0, 0]])"
      ]
     },
     "execution_count": 82,
     "metadata": {},
     "output_type": "execute_result"
    }
   ],
   "source": [
    "orgin_tensor = torch.tensor([[1,2],\n",
    "                             [1,3]])\n",
    "torch.zeros_like(input=orgin_tensor)"
   ]
  },
  {
   "cell_type": "code",
   "execution_count": 83,
   "metadata": {},
   "outputs": [
    {
     "data": {
      "text/plain": [
       "tensor([[1, 1],\n",
       "        [1, 1]])"
      ]
     },
     "execution_count": 83,
     "metadata": {},
     "output_type": "execute_result"
    }
   ],
   "source": [
    "torch.ones_like(input=orgin_tensor)"
   ]
  },
  {
   "cell_type": "markdown",
   "metadata": {},
   "source": [
    "### tensor的数据类型"
   ]
  },
  {
   "cell_type": "code",
   "execution_count": 84,
   "metadata": {},
   "outputs": [
    {
     "data": {
      "text/plain": [
       "tensor([1.0000, 1.5000, 2.0000, 2.5000, 3.0000, 3.5000, 4.0000, 4.5000, 5.0000,\n",
       "        5.5000, 6.0000, 6.5000, 7.0000, 7.5000, 8.0000, 8.5000, 9.0000, 9.5000],\n",
       "       dtype=torch.float16)"
      ]
     },
     "execution_count": 84,
     "metadata": {},
     "output_type": "execute_result"
    }
   ],
   "source": [
    "float_tensor = torch.arange(start=1,end=10,dtype=torch.float16,step=0.5)\n",
    "float_tensor"
   ]
  },
  {
   "cell_type": "code",
   "execution_count": 85,
   "metadata": {},
   "outputs": [
    {
     "data": {
      "text/plain": [
       "tensor([1, 2, 3, 4, 5, 6, 7, 8, 9], dtype=torch.int16)"
      ]
     },
     "execution_count": 85,
     "metadata": {},
     "output_type": "execute_result"
    }
   ],
   "source": [
    "torch.arange(start=1,end=10,dtype=torch.int16)"
   ]
  },
  {
   "cell_type": "code",
   "execution_count": 86,
   "metadata": {},
   "outputs": [
    {
     "data": {
      "text/plain": [
       "tensor([1, 1, 2, 2, 3, 3, 4, 4, 5, 5, 6, 6, 7, 7, 8, 8, 9, 9],\n",
       "       dtype=torch.int8)"
      ]
     },
     "execution_count": 86,
     "metadata": {},
     "output_type": "execute_result"
    }
   ],
   "source": [
    "# 类型转换\n",
    "float_tensor.type(dtype=torch.int8)"
   ]
  }
 ],
 "metadata": {
  "kernelspec": {
   "display_name": "deeplearning",
   "language": "python",
   "name": "python3"
  },
  "language_info": {
   "codemirror_mode": {
    "name": "ipython",
    "version": 3
   },
   "file_extension": ".py",
   "mimetype": "text/x-python",
   "name": "python",
   "nbconvert_exporter": "python",
   "pygments_lexer": "ipython3",
   "version": "3.11.7"
  }
 },
 "nbformat": 4,
 "nbformat_minor": 2
}
